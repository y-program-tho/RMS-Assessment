{
 "cells": [
  {
   "cell_type": "code",
   "execution_count": 16,
   "id": "624ef974",
   "metadata": {},
   "outputs": [],
   "source": [
    "import random\n",
    "import numpy as np"
   ]
  },
  {
   "cell_type": "code",
   "execution_count": 17,
   "id": "200d5e7f",
   "metadata": {},
   "outputs": [],
   "source": [
    "# Step 1: Create Matrix\n",
    "default_matrix = np.mat([[8,2,22,97,38,15,0,40,0,75],\n",
    "                         [49,49,99,40,17,81,18,57,60,87],\n",
    "                         [81,49,31,73,55,79,14,29,93,71],\n",
    "                         [52,70,95,23,4,60,11,42,69,24],\n",
    "                         [22,31,16,71,51,67,63,89,41,92],\n",
    "                         [24,47,32,60,99,3,45,2,44,75],\n",
    "                         [32,98,81,28,64,23,67,10,26,38],\n",
    "                         [67,26,20,68,2,62,12,20,95,63],\n",
    "                         [24,55,58,5,66,73,99,26,97,17],\n",
    "                         [21,36,23,9,75,0,76,44,20,45]])\n",
    "\n",
    "# Creates matrices filled with random numbers from 0 to 99 of the desired dimensions\n",
    "# Simply input the number of columns and the number of rows you want\n",
    "def matrix_creator(no_of_cols, no_of_rows):\n",
    "    matrix = []\n",
    "    for n in range(0, no_of_cols):\n",
    "        matrix.append([])\n",
    "        for m in range(0, no_of_rows):\n",
    "            matrix[n].append(random.randint(0,99))\n",
    "            m += 1;\n",
    "        n += 1;\n",
    "    matrix = np.mat(matrix)\n",
    "    return matrix\n",
    "\n",
    "\n",
    "\n",
    "# Step 2: Create method used to find all combinations of adjacent values in groups of 3 \n",
    "# to a start point of three horizontal aligned values in the a matrix\n",
    "# matrix = matrix used to find adjacent values in groups of 3\n",
    "# row = row coordinate of 2nd value of the starting sequence\n",
    "# col = column coordinate of 2nd value of the starting sequence\n",
    "# no_of_rows = number of rows in the matrix used\n",
    "# no_of_cols = number of columns used in the matrix\n",
    "def highest_adj_product(matrix, no_of_rows, no_of_cols, row, col):\n",
    "    \n",
    "    highest_prod = 0\n",
    "    adj_direction = \"\"\n",
    "    start_pos = [matrix[row, col-1], matrix[row, col], matrix[row, col+1]]\n",
    "    \n",
    "    adj_directions = ['left_adj', \n",
    "                      'right_adj', \n",
    "                      'up_adj', \n",
    "                      'down_adj', \n",
    "                      'left_upper_diag_adj', \n",
    "                      'left_lower_diag_adj', \n",
    "                      'right_upper_diag_adj', \n",
    "                      'right_lower_diag_adj']\n",
    "    \n",
    "    adj_vals = {\n",
    "        'left_adj':[],\n",
    "        'right_adj':[],\n",
    "        'up_adj':[],\n",
    "        'down_adj':[],\n",
    "        'left_upper_diag_adj':[],\n",
    "        'left_lower_diag_adj':[],\n",
    "        'right_upper_diag_adj':[],\n",
    "        'right_lower_diag_adj':[]\n",
    "    }\n",
    "    \n",
    "    \n",
    "    # This dictionary hold all row coordinates for specific adjacent directions\n",
    "    adj_row_coord = {\n",
    "        'left_adj':[row, row, row],\n",
    "        'right_adj':[row, row, row],\n",
    "        'up_adj':[row-1, row-2, row-3],\n",
    "        'down_adj':[row+1, row+2, row+3],\n",
    "        'left_upper_diag_adj':[row-1, row-2, row-3],\n",
    "        'left_lower_diag_adj':[row+1, row+2, row+3],\n",
    "        'right_lower_diag_adj':[row+1, row+2, row+3],\n",
    "        'right_upper_diag_adj':[row-1, row-2, row-3]\n",
    "    }\n",
    "    \n",
    "    # This dictionary hold all column coordinates for specific adjacent directions\n",
    "    adj_col_coord = {\n",
    "        'left_adj':[col-2, col-3, col-4],\n",
    "        'right_adj':[col+2, col+3, col+4],\n",
    "        'up_adj':[col, col, col],\n",
    "        'down_adj':[col, col, col],\n",
    "        'left_upper_diag_adj':[col-1, col-2, col-3],\n",
    "        'left_lower_diag_adj':[col-1, col-2, col-3],\n",
    "        'right_lower_diag_adj':[col+1, col+2, col+3],\n",
    "        'right_upper_diag_adj':[col+1, col+2, col+3]\n",
    "    }\n",
    "    \n",
    "    # If any adjacent direction coordinates contains a row coordinate < 0 or row coordinate > no. of rows in the matrix \n",
    "    # or contains column coordinates < 0 or column coordinates > no. of rows in the matrix must be remove from \n",
    "    # adj_vals, adj_row_coord, adj_column_coord dictionaries\n",
    "    for i in range(0, len(adj_directions)):\n",
    "        for j in range(0, 3):\n",
    "            if (adj_col_coord[adj_directions[i]][j] < 0) | (adj_col_coord[adj_directions[i]][j] > no_of_cols) | (adj_row_coord[adj_directions[i]][j] < 0) | (adj_row_coord[adj_directions[i]][j] > no_of_cols):\n",
    "                del adj_vals[adj_directions[i]]\n",
    "                del adj_col_coord[adj_directions[i]]\n",
    "                del adj_row_coord[adj_directions[i]]\n",
    "                break\n",
    "    \n",
    "    # Append the values (based on their row and column coordinates) to the correct adjacent directions\n",
    "    for key in adj_vals:\n",
    "        adj_vals[key].append(matrix[adj_row_coord[key][0], adj_col_coord[key][0]])\n",
    "        adj_vals[key].append(matrix[adj_row_coord[key][1], adj_col_coord[key][1]])\n",
    "        adj_vals[key].append(matrix[adj_row_coord[key][2], adj_col_coord[key][2]])\n",
    "        \n",
    "    # Find the adjecnt direction values that have the highest combined product value\n",
    "    for key in adj_vals:\n",
    "        if adj_vals[key][0]*adj_vals[key][1]*adj_vals[key][2] > highest_prod:\n",
    "            highest_prod = adj_vals[key][0]*adj_vals[key][1]*adj_vals[key][2]\n",
    "            adj_direction = key\n",
    "    \n",
    "    return highest_prod, adj_direction, adj_vals\n"
   ]
  },
  {
   "cell_type": "code",
   "execution_count": 18,
   "id": "b0f945d8",
   "metadata": {},
   "outputs": [
    {
     "name": "stdout",
     "output_type": "stream",
     "text": [
      "There are 8 combinations of three adjacent numbers: {'left_adj': [23, 95, 70], 'right_adj': [42, 69, 24], 'up_adj': [79, 81, 15], 'down_adj': [67, 3, 23], 'left_upper_diag_adj': [55, 40, 22], 'left_lower_diag_adj': [51, 60, 81], 'right_upper_diag_adj': [14, 57, 0], 'right_lower_diag_adj': [63, 2, 26]}\n",
      " \n",
      "The adjacent direction with the highest product value is left_lower_diag_adj with a value of 247860\n"
     ]
    }
   ],
   "source": [
    "solution = highest_adj_product(default_matrix, 10, 10, 3, 5)\n",
    "\n",
    "# Question 1 Answer\n",
    "print(\"There are \"+str(len(solution[2]))+\" combinations of three adjacent numbers: \"+str(solution[2]))\n",
    "print(' ')\n",
    "\n",
    "# Question 2 Answer\n",
    "print(\"The adjacent direction with the highest product value is \"+solution[1]+\" with a value of \"+str(solution[0]))"
   ]
  },
  {
   "cell_type": "code",
   "execution_count": 19,
   "id": "af425623",
   "metadata": {},
   "outputs": [
    {
     "name": "stdout",
     "output_type": "stream",
     "text": [
      "[[ 8  2 22 97 38 15  0 40  0 75]\n",
      " [49 49 99 40 17 81 18 57 60 87]\n",
      " [81 49 31 73 55 79 14 29 93 71]\n",
      " [52 70 95 23  4 60 11 42 69 24]\n",
      " [22 31 16 71 51 67 63 89 41 92]\n",
      " [24 47 32 60 99  3 45  2 44 75]\n",
      " [32 98 81 28 64 23 67 10 26 38]\n",
      " [67 26 20 68  2 62 12 20 95 63]\n",
      " [24 55 58  5 66 73 99 26 97 17]\n",
      " [21 36 23  9 75  0 76 44 20 45]]\n"
     ]
    }
   ],
   "source": [
    "print(default_matrix)"
   ]
  },
  {
   "cell_type": "code",
   "execution_count": 22,
   "id": "ce51c844",
   "metadata": {},
   "outputs": [],
   "source": []
  },
  {
   "cell_type": "code",
   "execution_count": null,
   "id": "1ffabbd6",
   "metadata": {},
   "outputs": [],
   "source": []
  },
  {
   "cell_type": "code",
   "execution_count": null,
   "id": "aeeabaab",
   "metadata": {},
   "outputs": [],
   "source": []
  },
  {
   "cell_type": "code",
   "execution_count": null,
   "id": "89204e1d",
   "metadata": {},
   "outputs": [],
   "source": []
  },
  {
   "cell_type": "code",
   "execution_count": null,
   "id": "4c351329",
   "metadata": {},
   "outputs": [],
   "source": []
  },
  {
   "cell_type": "code",
   "execution_count": null,
   "id": "3116851d",
   "metadata": {},
   "outputs": [],
   "source": []
  },
  {
   "cell_type": "code",
   "execution_count": null,
   "id": "8b86210a",
   "metadata": {},
   "outputs": [],
   "source": []
  },
  {
   "cell_type": "code",
   "execution_count": null,
   "id": "ffe3d038",
   "metadata": {},
   "outputs": [],
   "source": []
  },
  {
   "cell_type": "code",
   "execution_count": null,
   "id": "c80ac5af",
   "metadata": {},
   "outputs": [],
   "source": []
  },
  {
   "cell_type": "code",
   "execution_count": null,
   "id": "daf2e433",
   "metadata": {},
   "outputs": [],
   "source": []
  }
 ],
 "metadata": {
  "kernelspec": {
   "display_name": "Python 3 (ipykernel)",
   "language": "python",
   "name": "python3"
  },
  "language_info": {
   "codemirror_mode": {
    "name": "ipython",
    "version": 3
   },
   "file_extension": ".py",
   "mimetype": "text/x-python",
   "name": "python",
   "nbconvert_exporter": "python",
   "pygments_lexer": "ipython3",
   "version": "3.9.13"
  }
 },
 "nbformat": 4,
 "nbformat_minor": 5
}
